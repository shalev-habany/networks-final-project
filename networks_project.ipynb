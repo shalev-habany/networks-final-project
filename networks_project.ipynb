{
 "cells": [
  {
   "cell_type": "code",
   "execution_count": 38,
   "metadata": {},
   "outputs": [],
   "source": [
    "import pandas as pd\n",
    "import networkx as nx\n",
    "import numpy as np\n",
    "from itertools import combinations\n",
    "from tqdm import tqdm"
   ]
  },
  {
   "cell_type": "markdown",
   "metadata": {},
   "source": [
    "## Loading and Exploring Data"
   ]
  },
  {
   "cell_type": "code",
   "execution_count": 2,
   "metadata": {},
   "outputs": [
    {
     "data": {
      "text/html": [
       "<div>\n",
       "<style scoped>\n",
       "    .dataframe tbody tr th:only-of-type {\n",
       "        vertical-align: middle;\n",
       "    }\n",
       "\n",
       "    .dataframe tbody tr th {\n",
       "        vertical-align: top;\n",
       "    }\n",
       "\n",
       "    .dataframe thead th {\n",
       "        text-align: right;\n",
       "    }\n",
       "</style>\n",
       "<table border=\"1\" class=\"dataframe\">\n",
       "  <thead>\n",
       "    <tr style=\"text-align: right;\">\n",
       "      <th></th>\n",
       "      <th>user_id</th>\n",
       "      <th>parent_asin</th>\n",
       "      <th>rating</th>\n",
       "      <th>timestamp</th>\n",
       "      <th>category</th>\n",
       "    </tr>\n",
       "  </thead>\n",
       "  <tbody>\n",
       "    <tr>\n",
       "      <th>0</th>\n",
       "      <td>AFZUK3MTBIBEDQOPAK3OATUOUKLA</td>\n",
       "      <td>B0BFR5WF1R</td>\n",
       "      <td>1.0</td>\n",
       "      <td>1675826333052</td>\n",
       "      <td>All_Beauty</td>\n",
       "    </tr>\n",
       "    <tr>\n",
       "      <th>1</th>\n",
       "      <td>AF5PN3FPG5Z66P7Z7UWL56D6CGMA</td>\n",
       "      <td>B0BL3HSBZB</td>\n",
       "      <td>1.0</td>\n",
       "      <td>1674411398983</td>\n",
       "      <td>All_Beauty</td>\n",
       "    </tr>\n",
       "    <tr>\n",
       "      <th>2</th>\n",
       "      <td>AGAM2CCKV52HI4YZU7ASZTSXA7YQ</td>\n",
       "      <td>B0BXB4J297</td>\n",
       "      <td>4.0</td>\n",
       "      <td>1678571121367</td>\n",
       "      <td>All_Beauty</td>\n",
       "    </tr>\n",
       "    <tr>\n",
       "      <th>3</th>\n",
       "      <td>AGAHANLSS7DG4ZHNPP5S56W4SKHA</td>\n",
       "      <td>B07TT8JK51</td>\n",
       "      <td>4.0</td>\n",
       "      <td>1672923265267</td>\n",
       "      <td>All_Beauty</td>\n",
       "    </tr>\n",
       "    <tr>\n",
       "      <th>4</th>\n",
       "      <td>AFH7ZT2NJSHDKJ43IODXCE6RHWVA</td>\n",
       "      <td>B09XBSDCXP</td>\n",
       "      <td>1.0</td>\n",
       "      <td>1676202555202</td>\n",
       "      <td>All_Beauty</td>\n",
       "    </tr>\n",
       "  </tbody>\n",
       "</table>\n",
       "</div>"
      ],
      "text/plain": [
       "                        user_id parent_asin  rating      timestamp    category\n",
       "0  AFZUK3MTBIBEDQOPAK3OATUOUKLA  B0BFR5WF1R     1.0  1675826333052  All_Beauty\n",
       "1  AF5PN3FPG5Z66P7Z7UWL56D6CGMA  B0BL3HSBZB     1.0  1674411398983  All_Beauty\n",
       "2  AGAM2CCKV52HI4YZU7ASZTSXA7YQ  B0BXB4J297     4.0  1678571121367  All_Beauty\n",
       "3  AGAHANLSS7DG4ZHNPP5S56W4SKHA  B07TT8JK51     4.0  1672923265267  All_Beauty\n",
       "4  AFH7ZT2NJSHDKJ43IODXCE6RHWVA  B09XBSDCXP     1.0  1676202555202  All_Beauty"
      ]
     },
     "execution_count": 2,
     "metadata": {},
     "output_type": "execute_result"
    }
   ],
   "source": [
    "data_file = 'data/2023_filtered_data.csv'\n",
    "df = pd.read_csv(data_file)\n",
    "df.head()"
   ]
  },
  {
   "cell_type": "code",
   "execution_count": 14,
   "metadata": {},
   "outputs": [
    {
     "data": {
      "text/html": [
       "<div>\n",
       "<style scoped>\n",
       "    .dataframe tbody tr th:only-of-type {\n",
       "        vertical-align: middle;\n",
       "    }\n",
       "\n",
       "    .dataframe tbody tr th {\n",
       "        vertical-align: top;\n",
       "    }\n",
       "\n",
       "    .dataframe thead th {\n",
       "        text-align: right;\n",
       "    }\n",
       "</style>\n",
       "<table border=\"1\" class=\"dataframe\">\n",
       "  <thead>\n",
       "    <tr style=\"text-align: right;\">\n",
       "      <th></th>\n",
       "      <th>user_id</th>\n",
       "      <th>parent_asin</th>\n",
       "      <th>rating</th>\n",
       "      <th>timestamp</th>\n",
       "      <th>category</th>\n",
       "    </tr>\n",
       "  </thead>\n",
       "  <tbody>\n",
       "    <tr>\n",
       "      <th>0</th>\n",
       "      <td>AFZUK3MTBIBEDQOPAK3OATUOUKLA</td>\n",
       "      <td>B0BFR5WF1R</td>\n",
       "      <td>1.0</td>\n",
       "      <td>2023-02-08 03:18:53.052</td>\n",
       "      <td>All_Beauty</td>\n",
       "    </tr>\n",
       "    <tr>\n",
       "      <th>1</th>\n",
       "      <td>AF5PN3FPG5Z66P7Z7UWL56D6CGMA</td>\n",
       "      <td>B0BL3HSBZB</td>\n",
       "      <td>1.0</td>\n",
       "      <td>2023-01-22 18:16:38.983</td>\n",
       "      <td>All_Beauty</td>\n",
       "    </tr>\n",
       "    <tr>\n",
       "      <th>2</th>\n",
       "      <td>AGAM2CCKV52HI4YZU7ASZTSXA7YQ</td>\n",
       "      <td>B0BXB4J297</td>\n",
       "      <td>4.0</td>\n",
       "      <td>2023-03-11 21:45:21.367</td>\n",
       "      <td>All_Beauty</td>\n",
       "    </tr>\n",
       "    <tr>\n",
       "      <th>3</th>\n",
       "      <td>AGAHANLSS7DG4ZHNPP5S56W4SKHA</td>\n",
       "      <td>B07TT8JK51</td>\n",
       "      <td>4.0</td>\n",
       "      <td>2023-01-05 12:54:25.267</td>\n",
       "      <td>All_Beauty</td>\n",
       "    </tr>\n",
       "    <tr>\n",
       "      <th>4</th>\n",
       "      <td>AFH7ZT2NJSHDKJ43IODXCE6RHWVA</td>\n",
       "      <td>B09XBSDCXP</td>\n",
       "      <td>1.0</td>\n",
       "      <td>2023-02-12 11:49:15.202</td>\n",
       "      <td>All_Beauty</td>\n",
       "    </tr>\n",
       "  </tbody>\n",
       "</table>\n",
       "</div>"
      ],
      "text/plain": [
       "                        user_id parent_asin  rating               timestamp  \\\n",
       "0  AFZUK3MTBIBEDQOPAK3OATUOUKLA  B0BFR5WF1R     1.0 2023-02-08 03:18:53.052   \n",
       "1  AF5PN3FPG5Z66P7Z7UWL56D6CGMA  B0BL3HSBZB     1.0 2023-01-22 18:16:38.983   \n",
       "2  AGAM2CCKV52HI4YZU7ASZTSXA7YQ  B0BXB4J297     4.0 2023-03-11 21:45:21.367   \n",
       "3  AGAHANLSS7DG4ZHNPP5S56W4SKHA  B07TT8JK51     4.0 2023-01-05 12:54:25.267   \n",
       "4  AFH7ZT2NJSHDKJ43IODXCE6RHWVA  B09XBSDCXP     1.0 2023-02-12 11:49:15.202   \n",
       "\n",
       "     category  \n",
       "0  All_Beauty  \n",
       "1  All_Beauty  \n",
       "2  All_Beauty  \n",
       "3  All_Beauty  \n",
       "4  All_Beauty  "
      ]
     },
     "execution_count": 14,
     "metadata": {},
     "output_type": "execute_result"
    }
   ],
   "source": [
    "df['timestamp'] = pd.to_datetime(df['timestamp'], unit='ms')\n",
    "df.head()"
   ]
  },
  {
   "cell_type": "code",
   "execution_count": 18,
   "metadata": {},
   "outputs": [
    {
     "name": "stdout",
     "output_type": "stream",
     "text": [
      "<class 'pandas.core.frame.DataFrame'>\n",
      "RangeIndex: 25283082 entries, 0 to 25283081\n",
      "Data columns (total 5 columns):\n",
      " #   Column       Dtype         \n",
      "---  ------       -----         \n",
      " 0   user_id      object        \n",
      " 1   parent_asin  object        \n",
      " 2   rating       float64       \n",
      " 3   timestamp    datetime64[ns]\n",
      " 4   category     object        \n",
      "dtypes: datetime64[ns](1), float64(1), object(3)\n",
      "memory usage: 964.5+ MB\n"
     ]
    }
   ],
   "source": [
    "df.info()"
   ]
  },
  {
   "cell_type": "code",
   "execution_count": 24,
   "metadata": {},
   "outputs": [
    {
     "data": {
      "text/html": [
       "<div>\n",
       "<style scoped>\n",
       "    .dataframe tbody tr th:only-of-type {\n",
       "        vertical-align: middle;\n",
       "    }\n",
       "\n",
       "    .dataframe tbody tr th {\n",
       "        vertical-align: top;\n",
       "    }\n",
       "\n",
       "    .dataframe thead th {\n",
       "        text-align: right;\n",
       "    }\n",
       "</style>\n",
       "<table border=\"1\" class=\"dataframe\">\n",
       "  <thead>\n",
       "    <tr style=\"text-align: right;\">\n",
       "      <th></th>\n",
       "      <th>user_id</th>\n",
       "      <th>parent_asin</th>\n",
       "      <th>rating</th>\n",
       "      <th>timestamp</th>\n",
       "      <th>category</th>\n",
       "    </tr>\n",
       "  </thead>\n",
       "  <tbody>\n",
       "    <tr>\n",
       "      <th>25104356</th>\n",
       "      <td>AFA6NBLDWCSLBLULY6XVIL6SUAUA</td>\n",
       "      <td>B085WF87DT</td>\n",
       "      <td>5.0</td>\n",
       "      <td>2023-09-14 13:16:54.993</td>\n",
       "      <td>Unknown</td>\n",
       "    </tr>\n",
       "    <tr>\n",
       "      <th>25104948</th>\n",
       "      <td>AFWIHPLU3U5DFPDWC2IZUIL3QKVA</td>\n",
       "      <td>B0BNP3ZYM4</td>\n",
       "      <td>5.0</td>\n",
       "      <td>2023-09-14 10:58:54.302</td>\n",
       "      <td>Unknown</td>\n",
       "    </tr>\n",
       "    <tr>\n",
       "      <th>25104022</th>\n",
       "      <td>AGOENGSCHOXXR7UCE3CNP7X3ZNEQ</td>\n",
       "      <td>B0CHL96VJB</td>\n",
       "      <td>4.0</td>\n",
       "      <td>2023-09-14 07:44:15.818</td>\n",
       "      <td>Unknown</td>\n",
       "    </tr>\n",
       "    <tr>\n",
       "      <th>21877294</th>\n",
       "      <td>AHZOQB35MWVZUUJVSHGDN23JMORQ</td>\n",
       "      <td>B08C2C8RKV</td>\n",
       "      <td>5.0</td>\n",
       "      <td>2023-09-14 05:40:41.162</td>\n",
       "      <td>Sports_and_Outdoors</td>\n",
       "    </tr>\n",
       "    <tr>\n",
       "      <th>25098078</th>\n",
       "      <td>AHW6IYJIDWA7TZACSMKHCJ7A2IOQ</td>\n",
       "      <td>B007SWYQVW</td>\n",
       "      <td>5.0</td>\n",
       "      <td>2023-09-14 02:43:35.987</td>\n",
       "      <td>Unknown</td>\n",
       "    </tr>\n",
       "  </tbody>\n",
       "</table>\n",
       "</div>"
      ],
      "text/plain": [
       "                               user_id parent_asin  rating  \\\n",
       "25104356  AFA6NBLDWCSLBLULY6XVIL6SUAUA  B085WF87DT     5.0   \n",
       "25104948  AFWIHPLU3U5DFPDWC2IZUIL3QKVA  B0BNP3ZYM4     5.0   \n",
       "25104022  AGOENGSCHOXXR7UCE3CNP7X3ZNEQ  B0CHL96VJB     4.0   \n",
       "21877294  AHZOQB35MWVZUUJVSHGDN23JMORQ  B08C2C8RKV     5.0   \n",
       "25098078  AHW6IYJIDWA7TZACSMKHCJ7A2IOQ  B007SWYQVW     5.0   \n",
       "\n",
       "                       timestamp             category  \n",
       "25104356 2023-09-14 13:16:54.993              Unknown  \n",
       "25104948 2023-09-14 10:58:54.302              Unknown  \n",
       "25104022 2023-09-14 07:44:15.818              Unknown  \n",
       "21877294 2023-09-14 05:40:41.162  Sports_and_Outdoors  \n",
       "25098078 2023-09-14 02:43:35.987              Unknown  "
      ]
     },
     "execution_count": 24,
     "metadata": {},
     "output_type": "execute_result"
    }
   ],
   "source": [
    "df_sorted = df.sort_values(by='timestamp', ascending=False)\n",
    "df_sorted.head()"
   ]
  },
  {
   "cell_type": "code",
   "execution_count": 3,
   "metadata": {},
   "outputs": [
    {
     "data": {
      "text/plain": [
       "array(['All_Beauty', 'Amazon_Fashion', 'Appliances',\n",
       "       'Arts_Crafts_and_Sewing', 'Automotive', 'Baby_Products',\n",
       "       'Beauty_and_Personal_Care', 'Books', 'CDs_and_Vinyl',\n",
       "       'Cell_Phones_and_Accessories', 'Clothing_Shoes_and_Jewelry',\n",
       "       'Digital_Music', 'Electronics', 'Gift_Cards',\n",
       "       'Grocery_and_Gourmet_Food', 'Handmade_Products',\n",
       "       'Health_and_Household', 'Health_and_Personal_Care',\n",
       "       'Home_and_Kitchen', 'Industrial_and_Scientific', 'Kindle_Store',\n",
       "       'Magazine_Subscriptions', 'Movies_and_TV', 'Musical_Instruments',\n",
       "       'Office_Products', 'Patio_Lawn_and_Garden', 'Pet_Supplies',\n",
       "       'Software', 'Sports_and_Outdoors', 'Tools_and_Home_Improvement',\n",
       "       'Toys_and_Games', 'Unknown', 'Video_Games'], dtype=object)"
      ]
     },
     "execution_count": 3,
     "metadata": {},
     "output_type": "execute_result"
    }
   ],
   "source": [
    "df['category'].unique()"
   ]
  },
  {
   "cell_type": "code",
   "execution_count": 4,
   "metadata": {},
   "outputs": [
    {
     "data": {
      "text/plain": [
       "9462700"
      ]
     },
     "execution_count": 4,
     "metadata": {},
     "output_type": "execute_result"
    }
   ],
   "source": [
    "df['user_id'].nunique()"
   ]
  },
  {
   "cell_type": "code",
   "execution_count": 5,
   "metadata": {},
   "outputs": [
    {
     "data": {
      "text/plain": [
       "4931159"
      ]
     },
     "execution_count": 5,
     "metadata": {},
     "output_type": "execute_result"
    }
   ],
   "source": [
    "df['parent_asin'].nunique()"
   ]
  },
  {
   "cell_type": "code",
   "execution_count": 12,
   "metadata": {},
   "outputs": [
    {
     "data": {
      "text/plain": [
       "parent_asin\n",
       "B07TVHSDMQ    20515\n",
       "B07XFXXZMV     4844\n",
       "B008A0GNA8     4401\n",
       "B08PQ4Y1KZ     4273\n",
       "B0BRBSNXNT     4206\n",
       "              ...  \n",
       "B09GV9L88C        1\n",
       "B01IAE1VE6        1\n",
       "B01IAE1QZK        1\n",
       "B09GV9NZ9S        1\n",
       "B010K9VP86        1\n",
       "Length: 4931159, dtype: int64"
      ]
     },
     "execution_count": 12,
     "metadata": {},
     "output_type": "execute_result"
    }
   ],
   "source": [
    "grouped_by_parent_asin = df.groupby('parent_asin')\n",
    "grouped_by_parent_asin.size().sort_values(ascending=False)"
   ]
  },
  {
   "cell_type": "code",
   "execution_count": 13,
   "metadata": {},
   "outputs": [
    {
     "data": {
      "text/plain": [
       "parent_asin\n",
       "B07TVHSDMQ    20515\n",
       "B07XFXXZMV     4844\n",
       "B008A0GNA8     4401\n",
       "B08PQ4Y1KZ     4273\n",
       "B0BRBSNXNT     4206\n",
       "              ...  \n",
       "B0BGQRMD1B        2\n",
       "B07KG7QSQ3        2\n",
       "B07KG7VNFS        2\n",
       "B01DGLPR8Y        2\n",
       "0000098906        2\n",
       "Length: 2293167, dtype: int64"
      ]
     },
     "execution_count": 13,
     "metadata": {},
     "output_type": "execute_result"
    }
   ],
   "source": [
    "filtered_parent_asin = grouped_by_parent_asin.filter(lambda x: len(x) > 1)\n",
    "grouped_filtered_parent_asin = filtered_parent_asin.groupby('parent_asin')\n",
    "grouped_filtered_parent_asin.size().sort_values(ascending=False)"
   ]
  },
  {
   "cell_type": "code",
   "execution_count": 12,
   "metadata": {},
   "outputs": [
    {
     "data": {
      "text/plain": [
       "user_id\n",
       "AEA7TVOBS3KUGMLOPFKUJVXCQHNA      1582\n",
       "AG4D4BZAETIVJNMIUYMW6C4YGRUQ_1    1273\n",
       "AGZAR2FVIRB3ZPU2LD2CMBJ2QKNA       830\n",
       "AGJCZ3TS5CHMAP4DVRV2752DQ3NA       821\n",
       "AHCLIDPL6OI3LWPULCTGUBWAVILQ       816\n",
       "                                  ... \n",
       "AGGDIWAQ4AUS4YZTYBWJXUMG6REQ         1\n",
       "AGGDIWA2YDCMV6UPOY363LTQEFNA         1\n",
       "AGGDIW26TF6YJX7UEE7ADQNWWCTQ         1\n",
       "AEJDVJG4DHHKM7FNRNWLYIEIZBGA         1\n",
       "AHZZZZVLBL7D2RJVNDSW7MJ7LWBQ         1\n",
       "Length: 9462700, dtype: int64"
      ]
     },
     "execution_count": 12,
     "metadata": {},
     "output_type": "execute_result"
    }
   ],
   "source": [
    "grouped_by_user_id = df.groupby('user_id')\n",
    "grouped_by_user_id.size().sort_values(ascending=False)"
   ]
  },
  {
   "cell_type": "code",
   "execution_count": 13,
   "metadata": {},
   "outputs": [
    {
     "data": {
      "text/plain": [
       "user_id\n",
       "AEA7TVOBS3KUGMLOPFKUJVXCQHNA      1582\n",
       "AG4D4BZAETIVJNMIUYMW6C4YGRUQ_1    1273\n",
       "AGZAR2FVIRB3ZPU2LD2CMBJ2QKNA       830\n",
       "AGJCZ3TS5CHMAP4DVRV2752DQ3NA       821\n",
       "AHCLIDPL6OI3LWPULCTGUBWAVILQ       816\n",
       "                                  ... \n",
       "AGGDIWAQ4AUS4YZTYBWJXUMG6REQ         1\n",
       "AGGDIWA2YDCMV6UPOY363LTQEFNA         1\n",
       "AGGDIW26TF6YJX7UEE7ADQNWWCTQ         1\n",
       "AEJDVJG4DHHKM7FNRNWLYIEIZBGA         1\n",
       "AHZZZZVLBL7D2RJVNDSW7MJ7LWBQ         1\n",
       "Name: parent_asin, Length: 9462700, dtype: int64"
      ]
     },
     "execution_count": 13,
     "metadata": {},
     "output_type": "execute_result"
    }
   ],
   "source": [
    "grouped_by_user_id['parent_asin'].nunique().sort_values(ascending=False)"
   ]
  },
  {
   "cell_type": "markdown",
   "metadata": {},
   "source": [
    "## Smaller Data"
   ]
  },
  {
   "cell_type": "code",
   "execution_count": 73,
   "metadata": {},
   "outputs": [],
   "source": [
    "smaller_df = df[df['timestamp'] > '2023-08-01']"
   ]
  },
  {
   "cell_type": "code",
   "execution_count": 74,
   "metadata": {},
   "outputs": [],
   "source": [
    "grouped_by_user_id = smaller_df.groupby('user_id')"
   ]
  },
  {
   "cell_type": "code",
   "execution_count": 75,
   "metadata": {},
   "outputs": [],
   "source": [
    "users_products = grouped_by_user_id['parent_asin'].apply(list)"
   ]
  },
  {
   "cell_type": "code",
   "execution_count": 76,
   "metadata": {},
   "outputs": [
    {
     "data": {
      "text/plain": [
       "user_id\n",
       "AE2222GSOK3SXGGGIW5U5JGTFVXA                                         [B001EG0S0G]\n",
       "AE2226YDSSVJIQVGFA57OVYURSQQ                                         [B083KHKZY8]\n",
       "AE222BXSMOAK65FICCF3SAG2FTIA    [B09TT4SRNB, B0C3CNYF3Y, B0BLV4NC6T, B01BHFZY3...\n",
       "AE222W6PJZ4OQBFODCYTF4Q5WKPA                             [B091JHW9B6, B07SH11M7B]\n",
       "AE2233G7TWVYUT6ECTVL3NTK4WRQ                                         [1681063522]\n",
       "Name: parent_asin, dtype: object"
      ]
     },
     "execution_count": 76,
     "metadata": {},
     "output_type": "execute_result"
    }
   ],
   "source": [
    "users_products.head()"
   ]
  },
  {
   "cell_type": "code",
   "execution_count": 77,
   "metadata": {},
   "outputs": [
    {
     "name": "stderr",
     "output_type": "stream",
     "text": [
      "Calculating edge weights: 100%|██████████| 350196/350196 [00:00<00:00, 817138.03it/s]\n"
     ]
    }
   ],
   "source": [
    "edge_weights = {}\n",
    "for products in tqdm(users_products, desc='Calculating edge weights'):\n",
    "    for pair in combinations(sorted(products), 2):\n",
    "        if pair not in edge_weights:\n",
    "            edge_weights[pair] = 0\n",
    "        edge_weights[pair] += 1\n"
   ]
  },
  {
   "cell_type": "code",
   "execution_count": 79,
   "metadata": {},
   "outputs": [],
   "source": [
    "values = list(edge_weights.values())"
   ]
  },
  {
   "cell_type": "code",
   "execution_count": 80,
   "metadata": {},
   "outputs": [],
   "source": [
    "G = nx.Graph()\n",
    "for (product1, product2), weight in edge_weights.items():\n",
    "    G.add_edge(product1, product2, weight=weight)"
   ]
  },
  {
   "cell_type": "code",
   "execution_count": 59,
   "metadata": {},
   "outputs": [
    {
     "name": "stdout",
     "output_type": "stream",
     "text": [
      "Average degree: 8.788692517702103\n",
      "Average weight: 1.0035125120804793\n"
     ]
    }
   ],
   "source": [
    "average_degree = np.mean(list(dict(G.degree()).values()))\n",
    "average_weight = np.mean(list(edge_weights.values()))\n",
    "print(f'Average degree: {average_degree}')\n",
    "print(f'Average weight: {average_weight}')"
   ]
  },
  {
   "cell_type": "code",
   "execution_count": 60,
   "metadata": {},
   "outputs": [
    {
     "data": {
      "text/plain": [
       "2214"
      ]
     },
     "execution_count": 60,
     "metadata": {},
     "output_type": "execute_result"
    }
   ],
   "source": [
    "max_degree = max(dict(G.degree()).values())\n",
    "max_degree"
   ]
  },
  {
   "cell_type": "code",
   "execution_count": 61,
   "metadata": {},
   "outputs": [
    {
     "data": {
      "text/plain": [
       "18"
      ]
     },
     "execution_count": 61,
     "metadata": {},
     "output_type": "execute_result"
    }
   ],
   "source": [
    "max_weight = max(edge_weights.values())\n",
    "max_weight"
   ]
  },
  {
   "cell_type": "code",
   "execution_count": 62,
   "metadata": {},
   "outputs": [],
   "source": [
    "edges_to_remove = [(u, v) for u, v, w in G.edges(data=True) if w['weight'] == 1]\n",
    "G.remove_edges_from(edges_to_remove)"
   ]
  },
  {
   "cell_type": "code",
   "execution_count": 63,
   "metadata": {},
   "outputs": [],
   "source": [
    "nodes_to_remove = [node for node, degree in dict(G.degree()).items() if degree == 0]\n",
    "G.remove_nodes_from(nodes_to_remove)"
   ]
  },
  {
   "cell_type": "code",
   "execution_count": 69,
   "metadata": {},
   "outputs": [
    {
     "data": {
      "text/plain": [
       "2864"
      ]
     },
     "execution_count": 69,
     "metadata": {},
     "output_type": "execute_result"
    }
   ],
   "source": [
    "G.number_of_nodes()"
   ]
  },
  {
   "cell_type": "code",
   "execution_count": 81,
   "metadata": {},
   "outputs": [],
   "source": [
    "edges_data = [(u, v, d['weight']) for u, v, d in G.edges(data=True)]\n",
    "edges_df = pd.DataFrame(edges_data, columns=['node1', 'node2', 'weight'])\n",
    "edges_df.to_csv('data/network_edges.csv', index=False)"
   ]
  },
  {
   "cell_type": "code",
   "execution_count": null,
   "metadata": {},
   "outputs": [],
   "source": []
  }
 ],
 "metadata": {
  "kernelspec": {
   "display_name": "base",
   "language": "python",
   "name": "python3"
  },
  "language_info": {
   "codemirror_mode": {
    "name": "ipython",
    "version": 3
   },
   "file_extension": ".py",
   "mimetype": "text/x-python",
   "name": "python",
   "nbconvert_exporter": "python",
   "pygments_lexer": "ipython3",
   "version": "3.12.4"
  }
 },
 "nbformat": 4,
 "nbformat_minor": 2
}
